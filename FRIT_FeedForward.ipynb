{
 "cells": [
  {
   "cell_type": "code",
   "execution_count": 1,
   "metadata": {},
   "outputs": [],
   "source": [
    "import matplotlib.pyplot as plt\n",
    "import numpy as np\n",
    "import control.matlab as ctl\n",
    "\n",
    "from scipy.optimize import minimize, check_grad, approx_fprime\n",
    "from scipy.optimize import LinearConstraint, BFGS"
   ]
  },
  {
   "cell_type": "code",
   "execution_count": 142,
   "metadata": {},
   "outputs": [],
   "source": [
    "# === 設計仕様の決定 ===\n",
    "Cr = 1\n",
    "# サンプリングタイムと演算子\n",
    "Ts = 0.001\n",
    "s = ctl.tf([1,0], [1])      # ラプラス演算子 s\n",
    "z = ctl.tf([1, 0], [1], Ts)    # 時間進み演算子 z\n",
    "\n",
    "# 参照モデル Td\n",
    "tau = 0.020\n",
    "Td = ctl.c2d(1/(tau*s + 1), Ts)    # ゼロ次ホールドで離散化した一次遅れ系\n",
    "\n",
    "# 制御器構造 C(rho)\n",
    "#Crho = lambda rho: rho[0] + rho[1]*Ts/(1-z**-1) + rho[2]*(1-z**-1)/Ts # PID制御器\n",
    "Crho = lambda rho: rho[0] + rho[1]/(1-z**-1) # PI制御器\n",
    "\n",
    "# 初期制御器のパラメータ\n",
    "#rho0 = np.array([10, 0.0, 0.0])              # 適当な比例制御器（安定化する）\n",
    "rho0 = np.array([10.0, 1.0])              # 適当な比例制御器（安定化する）\n",
    "\n",
    "# 初期制御器 C0\n",
    "C0 = Crho(rho0)\n"
   ]
  },
  {
   "cell_type": "code",
   "execution_count": 148,
   "metadata": {},
   "outputs": [
    {
     "name": "stderr",
     "output_type": "stream",
     "text": [
      "C:\\Users\\Kobayashi\\anaconda3\\lib\\site-packages\\control\\timeresp.py:940: UserWarning: return_x specified for a transfer function system. Internal conversion to state space used; results may meaningless.\n",
      "  warnings.warn(\n"
     ]
    },
    {
     "data": {
      "text/plain": [
       "[<matplotlib.lines.Line2D at 0x169571b1520>]"
      ]
     },
     "execution_count": 148,
     "metadata": {},
     "output_type": "execute_result"
    },
    {
     "data": {
      "image/png": "[encoded data removed]",
      "text/plain": [
       "<Figure size 432x288 with 1 Axes>"
      ]
     },
     "metadata": {
      "needs_background": "light"
     },
     "output_type": "display_data"
    },
    {
     "data": {
      "image/png": "[encoded data removed]",
      "text/plain": [
       "<Figure size 432x288 with 1 Axes>"
      ]
     },
     "metadata": {
      "needs_background": "light"
     },
     "output_type": "display_data"
    }
   ],
   "source": [
    "# === 入出力データの取得 ===\n",
    "# データ取得に用いる入力信号 r (ステップ信号)\n",
    "N  = 1000           # データ数\n",
    "r0 = np.ones(N)     # 信号のベクトル\n",
    "\n",
    "# 制御対象モデル P\n",
    "Tp = 0.050\n",
    "Kp = 1\n",
    "P = ctl.c2d(Kp/(Tp*s + 1), Ts)\n",
    "\n",
    "# 初期の閉ループシステム\n",
    "Tu0 = (Cr + Td*C0)/(1 + P*C0)\n",
    "T0 = P*Tu0\n",
    "\n",
    "# 制御対象の出力信号 y0\n",
    "y0, t0, _ = ctl.lsim(T0, r0)\n",
    "\n",
    "# 制御入力信号 u0\n",
    "u0, _, _ = ctl.lsim(Tu0, r0)\n",
    "\n",
    "# ノイズ\n",
    "A = 0.01   # 振幅\n",
    "noise = 2*A*(np.random.rand(round(len(t0)))-0.5) # ホワイトノイズの生成f\n",
    "\n",
    "Anoise1 = 0.01\n",
    "fnoise1 = 0.5e3\n",
    "Anoise2 = 0.01\n",
    "fnoise2 = 0.2e3\n",
    "noise = Anoise1 * np.sin(2 * np.pi *fnoise1 * t0) + Anoise2 * np.sin(2 * np.pi * fnoise2 * t0)\n",
    "\n",
    "u0_noise = u0 + noise\n",
    "y0_noise = y0 + noise\n",
    "\n",
    "plt.figure()\n",
    "plt.plot(t0, u0)\n",
    "plt.figure()\n",
    "plt.plot(t0, y0)\n",
    "plt.plot(t0, y0_noise)\n"
   ]
  },
  {
   "cell_type": "code",
   "execution_count": 149,
   "metadata": {},
   "outputs": [
    {
     "name": "stderr",
     "output_type": "stream",
     "text": [
      "C:\\Users\\Kobayashi\\anaconda3\\lib\\site-packages\\control\\timeresp.py:940: UserWarning: return_x specified for a transfer function system. Internal conversion to state space used; results may meaningless.\n",
      "  warnings.warn(\n"
     ]
    },
    {
     "name": "stdout",
     "output_type": "stream",
     "text": [
      "[-0.07391054 -0.12287655]\n",
      "[-0.07391819 -0.12291496]\n",
      "[-0.00306022 -0.01774228]\n",
      "[-0.00310834 -0.01777673]\n",
      "5.918789017556136e-05\n",
      "[[9.36492199e-06 5.42952198e-05]\n",
      " [5.42952198e-05 3.14788622e-04]]\n"
     ]
    }
   ],
   "source": [
    "def e_tilde(C, Td, y0, u0):\n",
    "    _u, _, _ = ctl.lsim(1/(Cr + Td*C), u0.flatten())\n",
    "    _y, _, _ = ctl.lsim(C/(Cr + Td*C), y0.flatten())\n",
    "    r_tilde = _u + _y\n",
    "    y_tilde, _, _ = ctl.lsim(Td, r_tilde.flatten())\n",
    "    return y0 - y_tilde\n",
    "    \n",
    "def J_e_tilde(C, Td, y0, u0):\n",
    "    # FRIT の評価関数\n",
    "    _e_tilde = e_tilde(C, Td, y0, u0)\n",
    "    return np.linalg.norm(_e_tilde, 2)**2\n",
    "\n",
    "def J_e_tilde_jac(C, Td, y0, u0):\n",
    "    e_tilde_d_kp_y0, _, _ = ctl.lsim(Td**2/(Td*C + Cr)**2*C - Td/(Td*C + Cr), y0.flatten())\n",
    "    e_tilde_d_kp_u0, _, _ = ctl.lsim(Td**2/(Td*C + Cr)**2, u0.flatten())\n",
    "    e_tilde_d_ki_y0, _, _ = ctl.lsim(Td**2/(Td*C + Cr)**2/(1-z**(-1))*C - Td/(Td*C + Cr)/(1-z**(-1)), y0.flatten())\n",
    "    e_tilde_d_ki_u0, _, _ = ctl.lsim(Td**2/(Td*C + Cr)**2/(1-z**(-1)), u0.flatten())\n",
    "    e_tilde_d_kp = e_tilde_d_kp_y0 + e_tilde_d_kp_u0\n",
    "    e_tilde_d_ki = e_tilde_d_ki_y0 + e_tilde_d_ki_u0\n",
    "    e_tilde_d = np.array([e_tilde_d_kp, e_tilde_d_ki])\n",
    "    _e_tilde = e_tilde(C, Td, y0, u0)\n",
    "    jac_frit = 2 * np.dot(e_tilde_d, _e_tilde)\n",
    "    return jac_frit\n",
    "\n",
    "def J_e_tilde_hessian(C, Td, y0, u0):\n",
    "    jac = np.array([J_e_tilde_jac(C, Td, y0, u0)])\n",
    "    return np.dot(jac.T, jac)\n",
    "\n",
    "# 最適化問題の評価関数 f(x)とそのヤコビアン\n",
    "f = lambda x: J_e_tilde(Crho(x), Td, y0, u0)\n",
    "f_jac = lambda x: J_e_tilde_jac(Crho(x), Td, y0, u0)\n",
    "f_hessian = lambda x: J_e_tilde_hessian(Crho(x), Td, y0, u0)\n",
    "\n",
    "#確認\n",
    "eps = np.sqrt(np.finfo(float).eps)\n",
    "\n",
    "print(f_jac((1, 2)))\n",
    "print(approx_fprime((1, 2), f, [eps, eps]))\n",
    "\n",
    "print(f_jac((10, 2)))\n",
    "print(approx_fprime((10, 2), f, [eps, eps]))\n",
    "\n",
    "print(check_grad(f, f_jac, [10, 2]))\n",
    "\n",
    "print(f_hessian([10, 2]))\n",
    "\n",
    "# f = lambda x: J_e_tilde(Crho(x), Td, y0_noise, u0_noise)\n",
    "# f_jac = lambda x: J_e_tilde_jac(Crho(x), Td, y0_noise, u0_noise)\n",
    "# f_hessian = lambda x: J_e_tilde_hessian(Crho(x), Td, y0_noise, u0_noise)\n",
    "\n"
   ]
  },
  {
   "cell_type": "code",
   "execution_count": 152,
   "metadata": {},
   "outputs": [
    {
     "name": "stdout",
     "output_type": "stream",
     "text": [
      "trust-constr\n",
      "1: Jfrit = 0.0620, rho = [10.  1.]\n"
     ]
    },
    {
     "name": "stderr",
     "output_type": "stream",
     "text": [
      "C:\\Users\\Kobayashi\\anaconda3\\lib\\site-packages\\control\\timeresp.py:940: UserWarning: return_x specified for a transfer function system. Internal conversion to state space used; results may meaningless.\n",
      "  warnings.warn(\n",
      "C:\\Users\\Kobayashi\\anaconda3\\lib\\site-packages\\control\\timeresp.py:940: UserWarning: return_x specified for a transfer function system. Internal conversion to state space used; results may meaningless.\n",
      "  warnings.warn(\n"
     ]
    },
    {
     "name": "stdout",
     "output_type": "stream",
     "text": [
      "2: Jfrit = 0.0583, rho = [10.0148  1.0784]\n",
      "3: Jfrit = 0.0583, rho = [10.0148  1.0784]\n",
      "4: Jfrit = 0.0376, rho = [10.2337  1.6967]\n",
      "5: Jfrit = 0.0376, rho = [10.2337  1.6967]\n"
     ]
    },
    {
     "name": "stderr",
     "output_type": "stream",
     "text": [
      "C:\\Users\\Kobayashi\\anaconda3\\lib\\site-packages\\control\\timeresp.py:940: UserWarning: return_x specified for a transfer function system. Internal conversion to state space used; results may meaningless.\n",
      "  warnings.warn(\n",
      "C:\\Users\\Kobayashi\\anaconda3\\lib\\site-packages\\control\\timeresp.py:940: UserWarning: return_x specified for a transfer function system. Internal conversion to state space used; results may meaningless.\n",
      "  warnings.warn(\n"
     ]
    },
    {
     "name": "stdout",
     "output_type": "stream",
     "text": [
      "6: Jfrit = 0.0278, rho = [10.4188  2.2108]\n",
      "7: Jfrit = 0.0229, rho = [10.5902  2.5833]\n",
      "8: Jfrit = 0.0229, rho = [10.5902  2.5833]\n"
     ]
    },
    {
     "name": "stderr",
     "output_type": "stream",
     "text": [
      "C:\\Users\\Kobayashi\\anaconda3\\lib\\site-packages\\control\\timeresp.py:940: UserWarning: return_x specified for a transfer function system. Internal conversion to state space used; results may meaningless.\n",
      "  warnings.warn(\n",
      "C:\\Users\\Kobayashi\\anaconda3\\lib\\site-packages\\control\\timeresp.py:940: UserWarning: return_x specified for a transfer function system. Internal conversion to state space used; results may meaningless.\n",
      "  warnings.warn(\n"
     ]
    },
    {
     "name": "stdout",
     "output_type": "stream",
     "text": [
      "9: Jfrit = 0.0198, rho = [10.7569  2.8782]\n",
      "10: Jfrit = 0.0198, rho = [10.7945  2.8789]\n"
     ]
    },
    {
     "name": "stderr",
     "output_type": "stream",
     "text": [
      "C:\\Users\\Kobayashi\\anaconda3\\lib\\site-packages\\control\\timeresp.py:940: UserWarning: return_x specified for a transfer function system. Internal conversion to state space used; results may meaningless.\n",
      "  warnings.warn(\n",
      "C:\\Users\\Kobayashi\\anaconda3\\lib\\site-packages\\control\\timeresp.py:940: UserWarning: return_x specified for a transfer function system. Internal conversion to state space used; results may meaningless.\n",
      "  warnings.warn(\n"
     ]
    },
    {
     "name": "stdout",
     "output_type": "stream",
     "text": [
      "11: Jfrit = 0.0132, rho = [17.4357  2.7983]\n",
      "12: Jfrit = 0.0132, rho = [17.4357  2.7983]\n",
      "13: Jfrit = 0.0099, rho = [23.1776  2.8037]\n"
     ]
    },
    {
     "name": "stderr",
     "output_type": "stream",
     "text": [
      "C:\\Users\\Kobayashi\\anaconda3\\lib\\site-packages\\control\\timeresp.py:940: UserWarning: return_x specified for a transfer function system. Internal conversion to state space used; results may meaningless.\n",
      "  warnings.warn(\n",
      "C:\\Users\\Kobayashi\\anaconda3\\lib\\site-packages\\control\\timeresp.py:940: UserWarning: return_x specified for a transfer function system. Internal conversion to state space used; results may meaningless.\n",
      "  warnings.warn(\n"
     ]
    },
    {
     "name": "stdout",
     "output_type": "stream",
     "text": [
      "14: Jfrit = 0.0069, rho = [32.398   2.8074]\n",
      "15: Jfrit = 0.0069, rho = [32.398   2.8074]\n"
     ]
    },
    {
     "name": "stderr",
     "output_type": "stream",
     "text": [
      "C:\\Users\\Kobayashi\\anaconda3\\lib\\site-packages\\control\\timeresp.py:940: UserWarning: return_x specified for a transfer function system. Internal conversion to state space used; results may meaningless.\n",
      "  warnings.warn(\n",
      "C:\\Users\\Kobayashi\\anaconda3\\lib\\site-packages\\control\\timeresp.py:940: UserWarning: return_x specified for a transfer function system. Internal conversion to state space used; results may meaningless.\n",
      "  warnings.warn(\n"
     ]
    },
    {
     "name": "stdout",
     "output_type": "stream",
     "text": [
      "16: Jfrit = 0.0069, rho = [32.398   2.8074]\n",
      "17: Jfrit = 0.0069, rho = [32.398   2.8074]\n",
      "18: Jfrit = 0.0069, rho = [32.398   2.8074]\n",
      "19: Jfrit = 0.0069, rho = [32.398   2.8074]\n"
     ]
    },
    {
     "name": "stderr",
     "output_type": "stream",
     "text": [
      "C:\\Users\\Kobayashi\\anaconda3\\lib\\site-packages\\control\\timeresp.py:940: UserWarning: return_x specified for a transfer function system. Internal conversion to state space used; results may meaningless.\n",
      "  warnings.warn(\n",
      "C:\\Users\\Kobayashi\\anaconda3\\lib\\site-packages\\control\\timeresp.py:940: UserWarning: return_x specified for a transfer function system. Internal conversion to state space used; results may meaningless.\n",
      "  warnings.warn(\n"
     ]
    },
    {
     "name": "stdout",
     "output_type": "stream",
     "text": [
      "20: Jfrit = 0.0069, rho = [32.398   2.8074]\n",
      "21: Jfrit = 0.0068, rho = [32.5817  2.8408]\n"
     ]
    },
    {
     "name": "stderr",
     "output_type": "stream",
     "text": [
      "C:\\Users\\Kobayashi\\anaconda3\\lib\\site-packages\\control\\timeresp.py:940: UserWarning: return_x specified for a transfer function system. Internal conversion to state space used; results may meaningless.\n",
      "  warnings.warn(\n",
      "C:\\Users\\Kobayashi\\anaconda3\\lib\\site-packages\\control\\timeresp.py:940: UserWarning: return_x specified for a transfer function system. Internal conversion to state space used; results may meaningless.\n",
      "  warnings.warn(\n"
     ]
    },
    {
     "name": "stdout",
     "output_type": "stream",
     "text": [
      "22: Jfrit = 0.0064, rho = [34.322   2.9031]\n",
      "23: Jfrit = 0.0064, rho = [34.322   2.9031]\n"
     ]
    },
    {
     "name": "stderr",
     "output_type": "stream",
     "text": [
      "C:\\Users\\Kobayashi\\anaconda3\\lib\\site-packages\\control\\timeresp.py:940: UserWarning: return_x specified for a transfer function system. Internal conversion to state space used; results may meaningless.\n",
      "  warnings.warn(\n",
      "C:\\Users\\Kobayashi\\anaconda3\\lib\\site-packages\\scipy\\optimize\\_hessian_update_strategy.py:182: UserWarning: delta_grad == 0.0. Check if the approximated function is linear. If the function is linear better results can be obtained by defining the Hessian as zero instead of using quasi-Newton approximations.\n",
      "  warn('delta_grad == 0.0. Check if the approximated '\n",
      "C:\\Users\\Kobayashi\\anaconda3\\lib\\site-packages\\control\\timeresp.py:940: UserWarning: return_x specified for a transfer function system. Internal conversion to state space used; results may meaningless.\n",
      "  warnings.warn(\n",
      "C:\\Users\\Kobayashi\\anaconda3\\lib\\site-packages\\control\\timeresp.py:940: UserWarning: return_x specified for a transfer function system. Internal conversion to state space used; results may meaningless.\n",
      "  warnings.warn(\n"
     ]
    },
    {
     "name": "stdout",
     "output_type": "stream",
     "text": [
      "24: Jfrit = 0.0064, rho = [34.322   2.9031]\n",
      "25: Jfrit = 0.0063, rho = [34.5149  2.9737]\n",
      "26: Jfrit = 0.0063, rho = [34.7151  2.9741]\n",
      "27: Jfrit = 0.0062, rho = [35.9257  2.9764]\n"
     ]
    },
    {
     "name": "stderr",
     "output_type": "stream",
     "text": [
      "C:\\Users\\Kobayashi\\anaconda3\\lib\\site-packages\\control\\timeresp.py:940: UserWarning: return_x specified for a transfer function system. Internal conversion to state space used; results may meaningless.\n",
      "  warnings.warn(\n",
      "C:\\Users\\Kobayashi\\anaconda3\\lib\\site-packages\\control\\timeresp.py:940: UserWarning: return_x specified for a transfer function system. Internal conversion to state space used; results may meaningless.\n",
      "  warnings.warn(\n"
     ]
    },
    {
     "name": "stdout",
     "output_type": "stream",
     "text": [
      "28: Jfrit = 0.0062, rho = [35.5864  2.9765]\n",
      "29: Jfrit = 0.0062, rho = [35.5864  2.9765]\n",
      "30: Jfrit = 0.0062, rho = [35.6803  2.9951]\n",
      "31: Jfrit = 0.0062, rho = [35.6803  2.9951]\n"
     ]
    },
    {
     "name": "stderr",
     "output_type": "stream",
     "text": [
      "C:\\Users\\Kobayashi\\anaconda3\\lib\\site-packages\\control\\timeresp.py:940: UserWarning: return_x specified for a transfer function system. Internal conversion to state space used; results may meaningless.\n",
      "  warnings.warn(\n",
      "C:\\Users\\Kobayashi\\anaconda3\\lib\\site-packages\\control\\timeresp.py:940: UserWarning: return_x specified for a transfer function system. Internal conversion to state space used; results may meaningless.\n",
      "  warnings.warn(\n"
     ]
    },
    {
     "name": "stdout",
     "output_type": "stream",
     "text": [
      "32: Jfrit = 0.0062, rho = [35.703   2.9991]\n",
      "33: Jfrit = 0.0062, rho = [35.6708  2.9991]\n"
     ]
    },
    {
     "name": "stderr",
     "output_type": "stream",
     "text": [
      "C:\\Users\\Kobayashi\\anaconda3\\lib\\site-packages\\control\\timeresp.py:940: UserWarning: return_x specified for a transfer function system. Internal conversion to state space used; results may meaningless.\n",
      "  warnings.warn(\n",
      "C:\\Users\\Kobayashi\\anaconda3\\lib\\site-packages\\control\\timeresp.py:940: UserWarning: return_x specified for a transfer function system. Internal conversion to state space used; results may meaningless.\n",
      "  warnings.warn(\n"
     ]
    },
    {
     "name": "stdout",
     "output_type": "stream",
     "text": [
      "34: Jfrit = 0.0062, rho = [35.6652  2.9991]\n",
      "35: Jfrit = 0.0062, rho = [35.6652  2.9991]\n",
      "36: Jfrit = 0.0062, rho = [35.6378  2.9998]\n"
     ]
    },
    {
     "name": "stderr",
     "output_type": "stream",
     "text": [
      "C:\\Users\\Kobayashi\\anaconda3\\lib\\site-packages\\control\\timeresp.py:940: UserWarning: return_x specified for a transfer function system. Internal conversion to state space used; results may meaningless.\n",
      "  warnings.warn(\n",
      "C:\\Users\\Kobayashi\\anaconda3\\lib\\site-packages\\control\\timeresp.py:940: UserWarning: return_x specified for a transfer function system. Internal conversion to state space used; results may meaningless.\n",
      "  warnings.warn(\n"
     ]
    },
    {
     "name": "stdout",
     "output_type": "stream",
     "text": [
      "37: Jfrit = 0.0062, rho = [35.6518  2.9998]\n"
     ]
    },
    {
     "name": "stderr",
     "output_type": "stream",
     "text": [
      "C:\\Users\\Kobayashi\\anaconda3\\lib\\site-packages\\control\\timeresp.py:940: UserWarning: return_x specified for a transfer function system. Internal conversion to state space used; results may meaningless.\n",
      "  warnings.warn(\n",
      "C:\\Users\\Kobayashi\\anaconda3\\lib\\site-packages\\scipy\\optimize\\_hessian_update_strategy.py:182: UserWarning: delta_grad == 0.0. Check if the approximated function is linear. If the function is linear better results can be obtained by defining the Hessian as zero instead of using quasi-Newton approximations.\n",
      "  warn('delta_grad == 0.0. Check if the approximated '\n",
      "C:\\Users\\Kobayashi\\anaconda3\\lib\\site-packages\\control\\timeresp.py:940: UserWarning: return_x specified for a transfer function system. Internal conversion to state space used; results may meaningless.\n",
      "  warnings.warn(\n"
     ]
    },
    {
     "name": "stdout",
     "output_type": "stream",
     "text": [
      "38: Jfrit = 0.0062, rho = [35.6518  2.9998]\n"
     ]
    },
    {
     "name": "stderr",
     "output_type": "stream",
     "text": [
      "C:\\Users\\Kobayashi\\anaconda3\\lib\\site-packages\\scipy\\optimize\\_hessian_update_strategy.py:182: UserWarning: delta_grad == 0.0. Check if the approximated function is linear. If the function is linear better results can be obtained by defining the Hessian as zero instead of using quasi-Newton approximations.\n",
      "  warn('delta_grad == 0.0. Check if the approximated '\n",
      "C:\\Users\\Kobayashi\\anaconda3\\lib\\site-packages\\control\\timeresp.py:940: UserWarning: return_x specified for a transfer function system. Internal conversion to state space used; results may meaningless.\n",
      "  warnings.warn(\n"
     ]
    },
    {
     "name": "stdout",
     "output_type": "stream",
     "text": [
      "39: Jfrit = 0.0062, rho = [35.6518  2.9998]\n"
     ]
    },
    {
     "name": "stderr",
     "output_type": "stream",
     "text": [
      "C:\\Users\\Kobayashi\\anaconda3\\lib\\site-packages\\scipy\\optimize\\_hessian_update_strategy.py:182: UserWarning: delta_grad == 0.0. Check if the approximated function is linear. If the function is linear better results can be obtained by defining the Hessian as zero instead of using quasi-Newton approximations.\n",
      "  warn('delta_grad == 0.0. Check if the approximated '\n",
      "C:\\Users\\Kobayashi\\anaconda3\\lib\\site-packages\\control\\timeresp.py:940: UserWarning: return_x specified for a transfer function system. Internal conversion to state space used; results may meaningless.\n",
      "  warnings.warn(\n",
      "C:\\Users\\Kobayashi\\anaconda3\\lib\\site-packages\\scipy\\optimize\\_hessian_update_strategy.py:182: UserWarning: delta_grad == 0.0. Check if the approximated function is linear. If the function is linear better results can be obtained by defining the Hessian as zero instead of using quasi-Newton approximations.\n",
      "  warn('delta_grad == 0.0. Check if the approximated '\n"
     ]
    },
    {
     "name": "stdout",
     "output_type": "stream",
     "text": [
      "40: Jfrit = 0.0062, rho = [35.6518  2.9998]\n",
      "41: Jfrit = 0.0062, rho = [35.6518  2.9998]\n"
     ]
    },
    {
     "name": "stderr",
     "output_type": "stream",
     "text": [
      "C:\\Users\\Kobayashi\\anaconda3\\lib\\site-packages\\control\\timeresp.py:940: UserWarning: return_x specified for a transfer function system. Internal conversion to state space used; results may meaningless.\n",
      "  warnings.warn(\n",
      "C:\\Users\\Kobayashi\\anaconda3\\lib\\site-packages\\scipy\\optimize\\_hessian_update_strategy.py:182: UserWarning: delta_grad == 0.0. Check if the approximated function is linear. If the function is linear better results can be obtained by defining the Hessian as zero instead of using quasi-Newton approximations.\n",
      "  warn('delta_grad == 0.0. Check if the approximated '\n"
     ]
    },
    {
     "name": "stdout",
     "output_type": "stream",
     "text": [
      "42: Jfrit = 0.0062, rho = [35.6518  2.9998]\n"
     ]
    },
    {
     "name": "stderr",
     "output_type": "stream",
     "text": [
      "C:\\Users\\Kobayashi\\anaconda3\\lib\\site-packages\\control\\timeresp.py:940: UserWarning: return_x specified for a transfer function system. Internal conversion to state space used; results may meaningless.\n",
      "  warnings.warn(\n",
      "C:\\Users\\Kobayashi\\anaconda3\\lib\\site-packages\\scipy\\optimize\\_hessian_update_strategy.py:182: UserWarning: delta_grad == 0.0. Check if the approximated function is linear. If the function is linear better results can be obtained by defining the Hessian as zero instead of using quasi-Newton approximations.\n",
      "  warn('delta_grad == 0.0. Check if the approximated '\n"
     ]
    },
    {
     "name": "stdout",
     "output_type": "stream",
     "text": [
      "43: Jfrit = 0.0062, rho = [35.6518  2.9998]\n"
     ]
    },
    {
     "name": "stderr",
     "output_type": "stream",
     "text": [
      "C:\\Users\\Kobayashi\\anaconda3\\lib\\site-packages\\control\\timeresp.py:940: UserWarning: return_x specified for a transfer function system. Internal conversion to state space used; results may meaningless.\n",
      "  warnings.warn(\n",
      "C:\\Users\\Kobayashi\\anaconda3\\lib\\site-packages\\scipy\\optimize\\_hessian_update_strategy.py:182: UserWarning: delta_grad == 0.0. Check if the approximated function is linear. If the function is linear better results can be obtained by defining the Hessian as zero instead of using quasi-Newton approximations.\n",
      "  warn('delta_grad == 0.0. Check if the approximated '\n"
     ]
    },
    {
     "name": "stdout",
     "output_type": "stream",
     "text": [
      "44: Jfrit = 0.0062, rho = [35.6518  2.9998]\n"
     ]
    },
    {
     "name": "stderr",
     "output_type": "stream",
     "text": [
      "C:\\Users\\Kobayashi\\anaconda3\\lib\\site-packages\\control\\timeresp.py:940: UserWarning: return_x specified for a transfer function system. Internal conversion to state space used; results may meaningless.\n",
      "  warnings.warn(\n",
      "C:\\Users\\Kobayashi\\anaconda3\\lib\\site-packages\\scipy\\optimize\\_hessian_update_strategy.py:182: UserWarning: delta_grad == 0.0. Check if the approximated function is linear. If the function is linear better results can be obtained by defining the Hessian as zero instead of using quasi-Newton approximations.\n",
      "  warn('delta_grad == 0.0. Check if the approximated '\n",
      "C:\\Users\\Kobayashi\\anaconda3\\lib\\site-packages\\control\\timeresp.py:940: UserWarning: return_x specified for a transfer function system. Internal conversion to state space used; results may meaningless.\n",
      "  warnings.warn(\n"
     ]
    },
    {
     "name": "stdout",
     "output_type": "stream",
     "text": [
      "45: Jfrit = 0.0062, rho = [35.6518  2.9998]\n"
     ]
    },
    {
     "name": "stderr",
     "output_type": "stream",
     "text": [
      "C:\\Users\\Kobayashi\\anaconda3\\lib\\site-packages\\scipy\\optimize\\_hessian_update_strategy.py:182: UserWarning: delta_grad == 0.0. Check if the approximated function is linear. If the function is linear better results can be obtained by defining the Hessian as zero instead of using quasi-Newton approximations.\n",
      "  warn('delta_grad == 0.0. Check if the approximated '\n",
      "C:\\Users\\Kobayashi\\anaconda3\\lib\\site-packages\\control\\timeresp.py:940: UserWarning: return_x specified for a transfer function system. Internal conversion to state space used; results may meaningless.\n",
      "  warnings.warn(\n",
      "C:\\Users\\Kobayashi\\anaconda3\\lib\\site-packages\\control\\timeresp.py:940: UserWarning: return_x specified for a transfer function system. Internal conversion to state space used; results may meaningless.\n",
      "  warnings.warn(\n"
     ]
    },
    {
     "name": "stdout",
     "output_type": "stream",
     "text": [
      "46: Jfrit = 0.0062, rho = [35.6518  2.9998]\n",
      "47: Jfrit = 0.0062, rho = [35.6518  2.9998]\n"
     ]
    },
    {
     "name": "stderr",
     "output_type": "stream",
     "text": [
      "C:\\Users\\Kobayashi\\anaconda3\\lib\\site-packages\\scipy\\optimize\\_hessian_update_strategy.py:182: UserWarning: delta_grad == 0.0. Check if the approximated function is linear. If the function is linear better results can be obtained by defining the Hessian as zero instead of using quasi-Newton approximations.\n",
      "  warn('delta_grad == 0.0. Check if the approximated '\n",
      "C:\\Users\\Kobayashi\\anaconda3\\lib\\site-packages\\control\\timeresp.py:940: UserWarning: return_x specified for a transfer function system. Internal conversion to state space used; results may meaningless.\n",
      "  warnings.warn(\n"
     ]
    },
    {
     "name": "stdout",
     "output_type": "stream",
     "text": [
      "48: Jfrit = 0.0062, rho = [35.6518  2.9998]\n",
      "49: Jfrit = 0.0062, rho = [35.6518  2.9998]\n",
      "50: Jfrit = 0.0062, rho = [35.6518  2.9998]\n",
      "51: Jfrit = 0.0062, rho = [35.6518  2.9998]\n"
     ]
    },
    {
     "name": "stderr",
     "output_type": "stream",
     "text": [
      "C:\\Users\\Kobayashi\\anaconda3\\lib\\site-packages\\control\\timeresp.py:940: UserWarning: return_x specified for a transfer function system. Internal conversion to state space used; results may meaningless.\n",
      "  warnings.warn(\n",
      "C:\\Users\\Kobayashi\\anaconda3\\lib\\site-packages\\control\\timeresp.py:940: UserWarning: return_x specified for a transfer function system. Internal conversion to state space used; results may meaningless.\n",
      "  warnings.warn(\n"
     ]
    },
    {
     "name": "stdout",
     "output_type": "stream",
     "text": [
      "52: Jfrit = 0.0062, rho = [35.6518  2.9998]\n",
      "53: Jfrit = 0.0062, rho = [35.6518  2.9998]\n",
      "54: Jfrit = 0.0062, rho = [35.6518  2.9998]\n",
      "55: Jfrit = 0.0062, rho = [35.6518  2.9998]\n",
      "56: Jfrit = 0.0062, rho = [35.6518  2.9998]\n",
      "57: Jfrit = 0.0062, rho = [35.6518  2.9998]\n",
      "58: Jfrit = 0.0062, rho = [35.6518  2.9998]\n",
      "59: Jfrit = 0.0062, rho = [35.6518  2.9998]\n",
      "60: Jfrit = 0.0062, rho = [35.6518  2.9998]\n",
      "61: Jfrit = 0.0062, rho = [35.6518  2.9998]\n"
     ]
    },
    {
     "name": "stderr",
     "output_type": "stream",
     "text": [
      "C:\\Users\\Kobayashi\\anaconda3\\lib\\site-packages\\control\\timeresp.py:940: UserWarning: return_x specified for a transfer function system. Internal conversion to state space used; results may meaningless.\n",
      "  warnings.warn(\n",
      "C:\\Users\\Kobayashi\\anaconda3\\lib\\site-packages\\control\\timeresp.py:940: UserWarning: return_x specified for a transfer function system. Internal conversion to state space used; results may meaningless.\n",
      "  warnings.warn(\n"
     ]
    },
    {
     "name": "stdout",
     "output_type": "stream",
     "text": [
      "62: Jfrit = 0.0062, rho = [35.6518  2.9998]\n",
      "63: Jfrit = 0.0062, rho = [35.6518  2.9998]\n",
      "64: Jfrit = 0.0062, rho = [35.6518  2.9998]\n",
      "65: Jfrit = 0.0062, rho = [35.6518  2.9998]\n",
      "66: Jfrit = 0.0062, rho = [35.6518  2.9998]\n",
      "67: Jfrit = 0.0062, rho = [35.6518  2.9998]\n",
      "68: Jfrit = 0.0062, rho = [35.6518  2.9998]\n",
      "69: Jfrit = 0.0062, rho = [35.6518  2.9998]\n",
      "70: Jfrit = 0.0062, rho = [35.6518  2.9998]\n",
      "71: Jfrit = 0.0062, rho = [35.6518  2.9998]\n"
     ]
    },
    {
     "name": "stderr",
     "output_type": "stream",
     "text": [
      "C:\\Users\\Kobayashi\\anaconda3\\lib\\site-packages\\control\\timeresp.py:940: UserWarning: return_x specified for a transfer function system. Internal conversion to state space used; results may meaningless.\n",
      "  warnings.warn(\n",
      "C:\\Users\\Kobayashi\\anaconda3\\lib\\site-packages\\control\\timeresp.py:940: UserWarning: return_x specified for a transfer function system. Internal conversion to state space used; results may meaningless.\n",
      "  warnings.warn(\n"
     ]
    },
    {
     "name": "stdout",
     "output_type": "stream",
     "text": [
      "72: Jfrit = 0.0062, rho = [35.6518  2.9998]\n",
      "73: Jfrit = 0.0062, rho = [35.6518  2.9998]\n",
      "74: Jfrit = 0.0062, rho = [35.6518  2.9998]\n",
      "75: Jfrit = 0.0062, rho = [35.6518  2.9998]\n",
      "76: Jfrit = 0.0062, rho = [35.6518  2.9998]\n",
      "77: Jfrit = 0.0062, rho = [35.6518  2.9998]\n",
      "78: Jfrit = 0.0062, rho = [35.6518  2.9998]\n",
      "79: Jfrit = 0.0062, rho = [35.6518  2.9998]\n",
      "80: Jfrit = 0.0062, rho = [35.6518  2.9998]\n",
      "81: Jfrit = 0.0062, rho = [35.6518  2.9998]\n",
      "`xtol` termination condition is satisfied.\n",
      "Number of iterations: 81, function evaluations: 177, CG iterations: 86, optimality: 1.12e-06, constraint violation: 0.00e+00, execution time:  7.0 s.\n",
      "Powell\n"
     ]
    },
    {
     "name": "stderr",
     "output_type": "stream",
     "text": [
      "C:\\Users\\Kobayashi\\anaconda3\\lib\\site-packages\\control\\timeresp.py:940: UserWarning: return_x specified for a transfer function system. Internal conversion to state space used; results may meaningless.\n",
      "  warnings.warn(\n",
      "C:\\Users\\Kobayashi\\anaconda3\\lib\\site-packages\\control\\timeresp.py:940: UserWarning: return_x specified for a transfer function system. Internal conversion to state space used; results may meaningless.\n",
      "  warnings.warn(\n"
     ]
    },
    {
     "name": "stdout",
     "output_type": "stream",
     "text": [
      "1: Jfrit = 0.0070, rho = [37.6103  3.    ]\n"
     ]
    },
    {
     "name": "stderr",
     "output_type": "stream",
     "text": [
      "<ipython-input-149-93549efa2bb9>:4: RuntimeWarning: invalid value encountered in add\n",
      "  r_tilde = _u + _y\n",
      "C:\\Users\\Kobayashi\\anaconda3\\lib\\site-packages\\scipy\\interpolate\\interpolate.py:605: RuntimeWarning: overflow encountered in true_divide\n",
      "  slope = (y_hi - y_lo) / (x_hi - x_lo)[:, None]\n",
      "C:\\Users\\Kobayashi\\anaconda3\\lib\\site-packages\\scipy\\signal\\ltisys.py:3485: RuntimeWarning: invalid value encountered in add\n",
      "  xout[i+1, :] = (np.dot(system.A, xout[i, :]) +\n"
     ]
    },
    {
     "name": "stdout",
     "output_type": "stream",
     "text": [
      "2: Jfrit = 0.0062, rho = [35.6577  3.    ]\n",
      "3: Jfrit =  nan, rho = [4.66169968e+07 1.85410000e+00]\n",
      "Warning: NaN result encountered.\n",
      "L-BFGS-B\n",
      "1: Jfrit = 0.0597, rho = [10.0073  1.0479]\n",
      "2: Jfrit = 0.0202, rho = [10.0188  2.9693]\n",
      "3: Jfrit = 0.0199, rho = [10.0917  3.    ]\n",
      "4: Jfrit = 0.0185, rho = [10.9725  3.    ]\n",
      "5: Jfrit = 0.0124, rho = [17.262  3.   ]\n",
      "6: Jfrit = 0.0093, rho = [23.1205  3.    ]\n",
      "7: Jfrit = 0.0066, rho = [32.0682  3.    ]\n",
      "8: Jfrit = 0.0062, rho = [34.7553  3.    ]\n",
      "9: Jfrit = 0.0062, rho = [35.5582  3.    ]\n",
      "10: Jfrit = 0.0062, rho = [35.7013  3.    ]\n",
      "初期の評価値\t： 0.062\n",
      "設計後の評価値\t： 0.006\n"
     ]
    }
   ],
   "source": [
    "# === FRITによる設計 ===\n",
    "Kpmax = np.inf\n",
    "Kimax = 3\n",
    "\n",
    "def callbackFunc_trust(xk, state):\n",
    "    callbackFunc_trust.epoch += 1\n",
    "    print(\"{}: Jfrit = {:4.4f}, rho = {}\".format(\n",
    "        callbackFunc_trust.epoch, \n",
    "        state[\"fun\"], \n",
    "        np.round(xk, 4)))\n",
    "callbackFunc_trust.epoch = 0\n",
    "    \n",
    "def callbackFunc(xk):\n",
    "    callbackFunc.epoch += 1\n",
    "    print(\"{}: Jfrit = {:4.4f}, rho = {}\".format(\n",
    "        callbackFunc.epoch,\n",
    "        f(xk),\n",
    "        np.round(xk, 4)))    \n",
    "callbackFunc.epoch = 0\n",
    "\n",
    "bounds=((0, Kpmax), (0, Kimax))\n",
    "\n",
    "# 最適なパラメータ rho\n",
    "\n",
    "print(\"trust-constr\")\n",
    "optResult = minimize(f, rho0,\n",
    "                     method=\"trust-constr\", \n",
    "#                      jac=f_jac,\n",
    "                     hess=BFGS(),\n",
    "                     bounds=bounds,\n",
    "                     options={\"maxiter\":np.inf, \"disp\":True},\n",
    "                     callback=callbackFunc_trust\n",
    "                      )\n",
    "# print(\"TNC\")\n",
    "# optResult = minimize(f, rho0,\n",
    "#                      method=\"TNC\", \n",
    "#                      jac=f_jac,\n",
    "#                      hess=f_hessian,\n",
    "#                      bounds=bounds,\n",
    "#                      options={\"disp\":True},\n",
    "#                      callback=callbackFunc\n",
    "#                       )\n",
    "print(\"Powell\")\n",
    "callbackFunc.epoch = 0\n",
    "optResult = minimize(f, rho0,\n",
    "                     method=\"Powell\",\n",
    "                     bounds=bounds,\n",
    "                     options={\"maxiter\":np.inf, \"disp\":True},\n",
    "                     callback=callbackFunc\n",
    "                     )\n",
    "print(\"L-BFGS-B\")\n",
    "callbackFunc.epoch = 0\n",
    "optResult = minimize(f, rho0,\n",
    "                     method=\"L-BFGS-B\",\n",
    "                     jac=f_jac,\n",
    "                     bounds=bounds,\n",
    "                     options={\"maxiter\":np.inf, \"disp\":True},\n",
    "                     callback=callbackFunc\n",
    "                     )\n",
    "\n",
    "rho = optResult[\"x\"]\n",
    "# 設計した制御器 C\n",
    "C = Crho(rho)  # 制御器を求める\n",
    "\n",
    "# 評価値\n",
    "print(\"初期の評価値\\t： {:5.3f}\".format(f(rho0)))\n",
    "print(\"設計後の評価値\\t： {:5.3f}\".format(f(rho)))\n"
   ]
  },
  {
   "cell_type": "code",
   "execution_count": 153,
   "metadata": {},
   "outputs": [
    {
     "data": {
      "image/png": "[encoded data removed]",
      "text/plain": [
       "<Figure size 432x288 with 1 Axes>"
      ]
     },
     "metadata": {
      "needs_background": "light"
     },
     "output_type": "display_data"
    },
    {
     "data": {
      "image/png": "[encoded data removed]",
      "text/plain": [
       "<Figure size 432x288 with 2 Axes>"
      ]
     },
     "metadata": {
      "needs_background": "light"
     },
     "output_type": "display_data"
    }
   ],
   "source": [
    "# === 性能の確認 ===\n",
    "# 制御器を実装したシステム全体 G\n",
    "G = ctl.minreal((P*Cr + P*Td*C)/(1 + P*C), verbose=False)\n",
    "\n",
    "# ステップ応答\n",
    "plt.figure()\n",
    "plt.title(\"Step response of closed loop system\")\n",
    "timeRange = t0[t0 < 15*tau]\n",
    "ym, _ = ctl.step(Td, timeRange)\n",
    "yg, _ = ctl.step(G, timeRange)\n",
    "plt.plot(timeRange, ym)\n",
    "plt.plot(timeRange, yg)\n",
    "plt.plot(timeRange, y0[:len(timeRange)])\n",
    "plt.xlabel(\"Time [s]\")\n",
    "plt.ylabel(\"Velocity [V]\")\n",
    "plt.legend(['Reference model', 'Closed loop system', 'Initial'], loc='lower right')\n",
    "\n",
    "# ボード線図表示\n",
    "plt.figure()\n",
    "plt.title(\"Bode plot of closed loop system\")\n",
    "ctl.bode(Td, G)\n",
    "plt.legend(['Reference model', 'Closed loop system'], loc='lower left')\n",
    "\n",
    "plt.show()"
   ]
  }
 ],
 "metadata": {
  "kernelspec": {
   "display_name": "Python 3",
   "language": "python",
   "name": "python3"
  },
  "language_info": {
   "codemirror_mode": {
    "name": "ipython",
    "version": 3
   },
   "file_extension": ".py",
   "mimetype": "text/x-python",
   "name": "python",
   "nbconvert_exporter": "python",
   "pygments_lexer": "ipython3",
   "version": "3.8.3"
  }
 },
 "nbformat": 4,
 "nbformat_minor": 4
}
